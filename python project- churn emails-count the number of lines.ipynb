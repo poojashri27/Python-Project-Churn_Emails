{
 "cells": [
  {
   "cell_type": "code",
   "execution_count": null,
   "metadata": {},
   "outputs": [],
   "source": [
    "def number_of_lines():\n",
    "    fhand = open('/cxldata/datasets/project/mbox-short.txt')\n",
    "    inp = fhand.read()\n",
    "    fhand.close()\n",
    "    counts = 0\n",
    "    for c in inp:\n",
    "        if c == '\\n':\n",
    "            counts = counts + 1\n",
    "    return counts\n",
    "number_of_lines()\n",
    "               "
   ]
  },
  {
   "cell_type": "code",
   "execution_count": 2,
   "metadata": {},
   "outputs": [
    {
     "name": "stdout",
     "output_type": "stream",
     "text": [
      "Subject: [sakai] svn commit: r39772 - content/branches/sakai_2-5-x/content-impl/impl/src/java/org/sakaiproject/content/impl\n",
      "Subject: [sakai] svn commit: r39771 - in bspace/site-manage/sakai_2-4-x/site-manage-tool/tool/src: bundle java/org/sakaiproject/site/tool\n",
      "Subject: [sakai] svn commit: r39770 - site-manage/branches/sakai_2-5-x/site-manage-tool/tool/src/webapp/vm/sitesetup\n",
      "Subject: [sakai] svn commit: r39769 - in gradebook/trunk/app/ui/src: java/org/sakaiproject/tool/gradebook/ui/helpers/beans java/org/sakaiproject/tool/gradebook/ui/helpers/producers webapp/WEB-INF webapp/WEB-INF/bundle\n",
      "Subject: [sakai] svn commit: r39766 - site-manage/branches/sakai_2-4-x/site-manage-tool/tool/src/java/org/sakaiproject/site/tool\n",
      "Subject: [sakai] svn commit: r39765 - in gradebook/trunk/app: business/src/java/org/sakaiproject/tool/gradebook/business business/src/java/org/sakaiproject/tool/gradebook/business/impl ui ui/src/java/org/sakaiproject/tool/gradebook/ui/helpers/beans ui/src/java/org/sakaiproject/tool/gradebook/ui/helpers/entity ui/src/java/org/sakaiproject/tool/gradebook/ui/helpers/params ui/src/java/org/sakaiproject/tool/gradebook/ui/helpers/producers ui/src/webapp/WEB-INF ui/src/webapp/WEB-INF/bundle ui/src/webapp/content/templates\n",
      "Subject: [sakai] svn commit: r39764 - in msgcntr/trunk/messageforums-app/src/java/org/sakaiproject/tool/messageforums: . ui\n",
      "Subject: [sakai] svn commit: r39763 - in msgcntr/trunk: messageforums-api/src/bundle/org/sakaiproject/api/app/messagecenter/bundle messageforums-app/src/java/org/sakaiproject/tool/messageforums\n",
      "Subject: [sakai] svn commit: r39762 - web/trunk/web-tool/tool/src/bundle\n",
      "Subject: [sakai] svn commit: r39761 - site/trunk/site-tool/tool/src/bundle\n",
      "Subject: [sakai] svn commit: r39760 - in site-manage/trunk/site-manage-tool/tool/src: java/org/sakaiproject/site/tool webapp/vm/sitesetup\n",
      "Subject: [sakai] svn commit: r39759 - mailarchive/trunk/mailarchive-tool/tool/src/bundle\n",
      "Subject: [sakai] svn commit: r39758 - in gradebook/trunk: app/business/src/java/org/sakaiproject/tool/gradebook/business/impl service/api/src/java/org/sakaiproject/service/gradebook/shared service/impl/src/java/org/sakaiproject/component/gradebook\n",
      "Subject: [sakai] svn commit: r39757 - in assignment/trunk: assignment-impl/impl/src/java/org/sakaiproject/assignment/impl assignment-tool/tool/src/webapp/vm/assignment\n",
      "Subject: [sakai] svn commit: r39756 - in component/branches/SAK-12166/component-api/component/src/java/org/sakaiproject/component: impl impl/spring/support impl/spring/support/dynamic impl/support util\n",
      "Subject: [sakai] svn commit: r39755 - in sam/branches/SAK-12065: samigo-api/src/java/org/sakaiproject/tool/assessment/shared/api/grading samigo-app/src/java/org/sakaiproject/tool/assessment/ui/bean/evaluation samigo-app/src/java/org/sakaiproject/tool/assessment/ui/listener/evaluation samigo-services/src/java/org/sakaiproject/tool/assessment/facade samigo-services/src/java/org/sakaiproject/tool/assessment/integration/helper/ifc samigo-services/src/java/org/sakaiproject/tool/assessment/integration/helper/integrated samigo-services/src/java/org/sakaiproject/tool/assessment/integration/helper/standalone samigo-services/src/java/org/sakaiproject/tool/assessment/shared/impl/grading\n",
      "Subject: [sakai] svn commit: r39754 - in polls/branches/sakai_2-5-x: . tool tool/src/java/org/sakaiproject/poll/tool tool/src/java/org/sakaiproject/poll/tool/evolvers tool/src/webapp/WEB-INF\n",
      "Subject: [sakai] svn commit: r39753 - in polls/trunk: . tool tool/src/java/org/sakaiproject/poll/tool tool/src/java/org/sakaiproject/poll/tool/evolvers tool/src/webapp/WEB-INF\n",
      "Subject: [sakai] svn commit: r39752 - in podcasts/branches/sakai_2-5-x/podcasts-app/src/webapp: css podcasts\n",
      "Subject: [sakai] svn commit: r39751 - in podcasts/branches/sakai_2-5-x/podcasts-app/src/webapp: css images podcasts\n",
      "Subject: [sakai] svn commit: r39750 - event/branches/SAK-6216/event-util/util/src/java/org/sakaiproject/util\n",
      "Subject: [sakai] svn commit: r39749 - in bspace/site-manage/sakai_2-4-x/site-manage-tool/tool/src: bundle webapp/vm/sitesetup\n",
      "Subject: [sakai] svn commit: r39746 - in bspace/site-manage/sakai_2-4-x/site-manage-tool/tool/src: bundle webapp/vm/sitesetup\n",
      "Subject: [sakai] svn commit: r39745 - providers/trunk/cm/cm-authz-provider/src/java/org/sakaiproject/coursemanagement/impl/provider\n",
      "Subject: [sakai] svn commit: r39744 - oncourse/branches/oncourse_OPC_122007\n",
      "Subject: [sakai] svn commit: r39743 - gradebook/branches/oncourse_2-4-2/app/ui/src/java/org/sakaiproject/tool/gradebook/ui\n",
      "Subject: [sakai] svn commit: r39742 - gradebook/branches/oncourse_2-4-2/app/ui/src/java/org/sakaiproject/tool/gradebook/ui\n"
     ]
    },
    {
     "data": {
      "text/plain": [
       "27"
      ]
     },
     "execution_count": 2,
     "metadata": {},
     "output_type": "execute_result"
    }
   ],
   "source": [
    "def count_number_of_lines():\n",
    "    fhand = open('/cxldata/datasets/project/mbox-short.txt')\n",
    "    count = 0\n",
    "    for line in fhand:\n",
    "        line = line.rstrip()\n",
    "        if line.startswith('Subject'):\n",
    "            count = count + 1\n",
    "            print(line)\n",
    "    return count\n",
    "count_number_of_lines()\n",
    "            "
   ]
  },
  {
   "cell_type": "code",
   "execution_count": 10,
   "metadata": {},
   "outputs": [
    {
     "data": {
      "text/plain": [
       "0.7507185185185187"
      ]
     },
     "execution_count": 10,
     "metadata": {},
     "output_type": "execute_result"
    }
   ],
   "source": [
    "def average_spam_confidence():\n",
    "    fhand = open('/cxldata/datasets/project/mbox-short.txt')\n",
    "    spam_confidence_sum = 0\n",
    "    count = 0\n",
    "    for line in fhand:\n",
    "        line = line.rstrip()\n",
    "        if line.startswith('X-DSPAM-Confidence:'):\n",
    "            value = line.split(\":\")\n",
    "            spam_confidence_sum = spam_confidence_sum + float(value[1])\n",
    "            count = count + 1\n",
    "            average = float(spam_confidence_sum/count)\n",
    "    return average\n",
    "average_spam_confidence()\n",
    "        "
   ]
  },
  {
   "cell_type": "code",
   "execution_count": 13,
   "metadata": {},
   "outputs": [
    {
     "data": {
      "text/plain": [
       "{'Sat': 1, 'Fri': 20, 'Thu': 6}"
      ]
     },
     "execution_count": 13,
     "metadata": {},
     "output_type": "execute_result"
    }
   ],
   "source": [
    "def find_email_sent_days():\n",
    "    with open('/cxldata/datasets/project/mbox-short.txt', 'r') as f:\n",
    "        d ={}\n",
    "        c = []\n",
    "        for line in f:\n",
    "            line = line.rstrip()\n",
    "            if line.startswith('From'):\n",
    "                words = line.split()\n",
    "                if len(words)>3:\n",
    "                    c = words[2]\n",
    "                    d[c]=d.get(c, 0) + 1\n",
    "        return d\n",
    "find_email_sent_days()\n",
    "        \n"
   ]
  },
  {
   "cell_type": "code",
   "execution_count": 35,
   "metadata": {},
   "outputs": [
    {
     "data": {
      "text/plain": [
       "{'stephen.marquard@uct.ac.za': 2,\n",
       " 'louis@media.berkeley.edu': 3,\n",
       " 'zqian@umich.edu': 4,\n",
       " 'rjlowe@iupui.edu': 2,\n",
       " 'cwen@iupui.edu': 5,\n",
       " 'gsilver@umich.edu': 3,\n",
       " 'wagnermr@iupui.edu': 1,\n",
       " 'antranig@caret.cam.ac.uk': 1,\n",
       " 'gopal.ramasammycook@gmail.com': 1,\n",
       " 'david.horwitz@uct.ac.za': 4,\n",
       " 'ray@media.berkeley.edu': 1}"
      ]
     },
     "execution_count": 35,
     "metadata": {},
     "output_type": "execute_result"
    }
   ],
   "source": [
    "def count_message_from_email():\n",
    "    lineslist=[]\n",
    "    emaildict={}\n",
    "    with open(\"/cxldata/datasets/project/mbox-short.txt\") as f:\n",
    "      for line in f:\n",
    "        lineslist = line.split()\n",
    "        if line.startswith('From:'):\n",
    "          email=lineslist[1]\n",
    "          if email not in emaildict:\n",
    "            emaildict[email] = 1\n",
    "          else:\n",
    "            emaildict[email] += 1\n",
    "    return emaildict\n",
    "count_message_from_email()"
   ]
  },
  {
   "cell_type": "code",
   "execution_count": null,
   "metadata": {},
   "outputs": [],
   "source": []
  }
 ],
 "metadata": {
  "kernelspec": {
   "display_name": "Python 3",
   "language": "python",
   "name": "python3"
  },
  "language_info": {
   "codemirror_mode": {
    "name": "ipython",
    "version": 3
   },
   "file_extension": ".py",
   "mimetype": "text/x-python",
   "name": "python",
   "nbconvert_exporter": "python",
   "pygments_lexer": "ipython3",
   "version": "3.6.8"
  },
  "toc": {
   "base_numbering": 1,
   "nav_menu": {},
   "number_sections": true,
   "sideBar": false,
   "skip_h1_title": false,
   "title_cell": "Table of Contents",
   "title_sidebar": "Contents",
   "toc_cell": false,
   "toc_position": {
    "height": "47.6px",
    "left": "584.2px",
    "top": "164px",
    "width": "159px"
   },
   "toc_section_display": false,
   "toc_window_display": true
  }
 },
 "nbformat": 4,
 "nbformat_minor": 2
}
